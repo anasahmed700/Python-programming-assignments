{
 "cells": [
  {
   "cell_type": "markdown",
   "metadata": {},
   "source": [
    "# Assignment # 2"
   ]
  },
  {
   "cell_type": "markdown",
   "metadata": {},
   "source": [
    "### 1. Write a program which takes 5 inputs from user for different subject’s marks, total it and generate mark sheet using grades ?"
   ]
  },
  {
   "cell_type": "code",
   "execution_count": 6,
   "metadata": {},
   "outputs": [
    {
     "name": "stdout",
     "output_type": "stream",
     "text": [
      "Please enter the marks that you obtained in each subject to find out your grades!\n",
      "Obtained marks in Mathematics out of 100: 88\n",
      "Obtained marks in Physics out of 100: 75\n",
      "Obtained marks in Chemistry out of 100: 54\n",
      "Obtained marks in English out of 100: 68\n",
      "Obtained marks in Urdu out of 100: 72\n",
      "Congratulations! you've secured Grade \"B\" with 71.39999999999999% marks.\n"
     ]
    }
   ],
   "source": [
    "print(\"Please enter the marks that you obtained in each subject to find out your grades!\")\n",
    "math = int(input(\"Obtained marks in Mathematics out of 100: \"))\n",
    "physics = int(input(\"Obtained marks in Physics out of 100: \"))\n",
    "chemistry = int(input(\"Obtained marks in Chemistry out of 100: \"))\n",
    "english = int(input(\"Obtained marks in English out of 100: \"))\n",
    "urdu = int(input(\"Obtained marks in Urdu out of 100: \"))\n",
    "obtained = math+physics+chemistry+english+urdu\n",
    "maximum = 500\n",
    "percentage = obtained/maximum*100\n",
    "\n",
    "if percentage < 100 and percentage >= 80:\n",
    "    print('Congratulations! you\\'ve secured Grade \"A\" with {0}% marks.'.format(percentage))\n",
    "elif percentage < 80 and percentage >= 60:\n",
    "    print('Congratulations! you\\'ve secured Grade \"B\" with {0}% marks.'.format(percentage))\n",
    "elif percentage < 60 and percentage >= 50:\n",
    "    print('Welldone! you\\'ve secured Grade \"C\" with {0}% marks.'.format(percentage))\n",
    "elif percentage < 50 and percentage >= 40:\n",
    "    print('Welldone! you\\'ve secured Grade \"D\" with {0}% marks.'.format(percentage))\n",
    "elif percentage < 40 and percentage >= 33:\n",
    "    print('Welldone! you\\'ve secured Grade \"E\" with {0}% marks.'.format(percentage))\n",
    "elif percentage < 33:\n",
    "    print('Failed! you\\'ve secured only {0}% marks.'.format(percentage))\n",
    "else:\n",
    "    print(\"Please try again you've entered invalid values!\")"
   ]
  },
  {
   "cell_type": "markdown",
   "metadata": {},
   "source": [
    "### 2. Write a program which take input from user and identify that the given number is even or odd?"
   ]
  },
  {
   "cell_type": "code",
   "execution_count": 24,
   "metadata": {},
   "outputs": [
    {
     "name": "stdout",
     "output_type": "stream",
     "text": [
      "Please give a number(whole number) to find it even or odd: 8\n",
      "8 is even.\n"
     ]
    }
   ],
   "source": [
    "try:\n",
    "    num = int(input(\"Please give a number(whole number) to find it even or odd: \"))\n",
    "    mod = num % 2\n",
    "    if mod > 0:\n",
    "        print(\"{0} is odd.\".format(num))\n",
    "    else:\n",
    "        print(\"{0} is even.\".format(num))\n",
    "except ValueError:\n",
    "    print(\"Oops! you've entered non-integer value, try again with integer value\")\n",
    "\n",
    "#else:\n",
    " #   print(\"Invalid input! Please enter a whole number.\")"
   ]
  },
  {
   "cell_type": "markdown",
   "metadata": {},
   "source": [
    "### 3. Write a program which print the length of the list?"
   ]
  },
  {
   "cell_type": "code",
   "execution_count": 27,
   "metadata": {},
   "outputs": [
    {
     "name": "stdout",
     "output_type": "stream",
     "text": [
      "Length of the list is 10\n"
     ]
    }
   ],
   "source": [
    "my_list = [1,2,3,4,5,6,7,8,9,0]\n",
    "print(\"Length of the list is\",len(my_list))"
   ]
  },
  {
   "cell_type": "markdown",
   "metadata": {},
   "source": [
    "### 4. Write a Python program to sum all the numeric items in a list?"
   ]
  },
  {
   "cell_type": "code",
   "execution_count": 46,
   "metadata": {},
   "outputs": [
    {
     "name": "stdout",
     "output_type": "stream",
     "text": [
      "Sum of the list is 45\n"
     ]
    }
   ],
   "source": [
    "my_list = [1,2,3,4,5,6,7,8,9,0]\n",
    "print(\"Sum of the list is\", sum(my_list))"
   ]
  },
  {
   "cell_type": "markdown",
   "metadata": {},
   "source": [
    "### 5. Write a Python program to get the largest number from a numeric list."
   ]
  },
  {
   "cell_type": "code",
   "execution_count": 50,
   "metadata": {},
   "outputs": [
    {
     "name": "stdout",
     "output_type": "stream",
     "text": [
      "The largest value of the list is 9\n"
     ]
    }
   ],
   "source": [
    "num_list = [1,2,3,4,5,6,7,8,9,0]\n",
    "print(\"The largest value of the list is\", max(num_list))"
   ]
  },
  {
   "cell_type": "markdown",
   "metadata": {},
   "source": [
    "### 6. Take a list, say for example this one:\n",
    "### a = [1, 1, 2, 3, 5, 8, 13, 21, 34, 55, 89]\n",
    "### and write a program that prints out all the elements of the list that are less than 5."
   ]
  },
  {
   "cell_type": "code",
   "execution_count": 52,
   "metadata": {},
   "outputs": [
    {
     "name": "stdout",
     "output_type": "stream",
     "text": [
      "1 is less than 5\n",
      "1 is less than 5\n",
      "2 is less than 5\n",
      "3 is less than 5\n"
     ]
    }
   ],
   "source": [
    "a = [1, 1, 2, 3, 5, 8, 13, 21, 34, 55, 89]\n",
    "for i in a:\n",
    "    if i < 5:\n",
    "        print(\"{0} is less than 5\".format(i))"
   ]
  }
 ],
 "metadata": {
  "kernelspec": {
   "display_name": "Python 3",
   "language": "python",
   "name": "python3"
  },
  "language_info": {
   "codemirror_mode": {
    "name": "ipython",
    "version": 3
   },
   "file_extension": ".py",
   "mimetype": "text/x-python",
   "name": "python",
   "nbconvert_exporter": "python",
   "pygments_lexer": "ipython3",
   "version": "3.6.4"
  }
 },
 "nbformat": 4,
 "nbformat_minor": 2
}
